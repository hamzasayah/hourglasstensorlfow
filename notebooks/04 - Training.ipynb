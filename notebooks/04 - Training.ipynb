{
 "cells": [
  {
   "cell_type": "markdown",
   "metadata": {},
   "source": [
    "<center style=\"font-weight:bold;font-size:20px\">wbenbihi/hourglasstensorlfow: Stacked Hourglass Network for Human Pose Estimation</center>"
   ]
  },
  {
   "cell_type": "markdown",
   "metadata": {},
   "source": [
    "<center style=\"font-weight:bold;font-size:20px\">Training</center>"
   ]
  },
  {
   "cell_type": "markdown",
   "metadata": {},
   "source": [
    "# Setup"
   ]
  },
  {
   "cell_type": "markdown",
   "metadata": {},
   "source": [
    "## Imports"
   ]
  },
  {
   "cell_type": "code",
   "execution_count": null,
   "metadata": {
    "ExecuteTime": {
     "end_time": "2020-11-06T23:22:54.940395Z",
     "start_time": "2020-11-06T23:22:54.937517Z"
    }
   },
   "outputs": [],
   "source": [
    "import os\n",
    "import sys\n",
    "sys.path.append(os.path.join('..'))"
   ]
  },
  {
   "cell_type": "code",
   "execution_count": null,
   "metadata": {
    "ExecuteTime": {
     "end_time": "2020-11-06T23:42:47.073507Z",
     "start_time": "2020-11-06T23:42:47.069127Z"
    }
   },
   "outputs": [],
   "source": [
    "from config import CFG\n",
    "import yaml\n",
    "import pandas as pd\n",
    "import tensorflow as tf\n",
    "from src.dataset.functions import *"
   ]
  },
  {
   "cell_type": "markdown",
   "metadata": {},
   "source": [
    "## Global Variables"
   ]
  },
  {
   "cell_type": "code",
   "execution_count": null,
   "metadata": {
    "ExecuteTime": {
     "end_time": "2020-11-06T23:22:59.451887Z",
     "start_time": "2020-11-06T23:22:59.449387Z"
    }
   },
   "outputs": [],
   "source": [
    "ROOT_FOLDER = CFG.ROOT_FOLDER\n",
    "DATA_FOLDER = 'data'\n",
    "IMAGE_FOLDER = 'images'\n",
    "LABELS_FILE = \"MPII_DATASET_LABELS.csv\""
   ]
  },
  {
   "cell_type": "markdown",
   "metadata": {},
   "source": [
    "# Function definition"
   ]
  },
  {
   "cell_type": "code",
   "execution_count": null,
   "metadata": {},
   "outputs": [],
   "source": [
    "def extract_coordinates_and_filenames(df: pd.DataFrame, config: dict):\n",
    "    image_column = config['image_column']\n",
    "    joint_format_regex = config[\"joint_column_format\"].format(JOINTNUMBER=\"[0-9]*\", IDVISIBILITY=\"(x|y)\")\n",
    "    filenames = (os.path.join(ROOT_FOLDER, config['data_folder']) + '/' + df.filter(regex=yaml_config.get('dataset').get('image_column'))).image.tolist()\n",
    "    coordinates = df.filter(regex=joint_format_regex).values.reshape((-1, 16, 2))\n",
    "    return filenames, coordinates"
   ]
  },
  {
   "cell_type": "code",
   "execution_count": null,
   "metadata": {},
   "outputs": [],
   "source": [
    "def generate_io_dataset(filenames:list, coordinates, config: dict):\n",
    "    dataset = tf.data.Dataset.from_tensor_slices(\n",
    "        (filenames, coordinates)\n",
    "    ).map(\n",
    "        tf_parse_dataset\n",
    "    ).map(\n",
    "        lambda x, y: tf_preprocess(\n",
    "            x,\n",
    "            y, \n",
    "            config.get('data').get('input_size'),\n",
    "            config.get('data').get('output_size')\n",
    "        )\n",
    "    )\n",
    "    return dataset"
   ]
  },
  {
   "cell_type": "code",
   "execution_count": null,
   "metadata": {},
   "outputs": [],
   "source": [
    "def generate"
   ]
  },
  {
   "cell_type": "markdown",
   "metadata": {},
   "source": [
    "# Main Code"
   ]
  },
  {
   "cell_type": "markdown",
   "metadata": {
    "ExecuteTime": {
     "end_time": "2019-11-18T16:35:15.284775Z",
     "start_time": "2019-11-18T16:35:15.279339Z"
    }
   },
   "source": [
    "## Open YAML Config File"
   ]
  },
  {
   "cell_type": "code",
   "execution_count": null,
   "metadata": {
    "ExecuteTime": {
     "end_time": "2020-11-06T23:47:35.272944Z",
     "start_time": "2020-11-06T23:47:35.269719Z"
    }
   },
   "outputs": [],
   "source": [
    "with open(os.path.join(ROOT_FOLDER, 'config', 'hpeDefault.yml'), 'r') as f:\n",
    "    yaml_config = yaml.load(f, Loader=yaml.FullLoader)"
   ]
  },
  {
   "cell_type": "markdown",
   "metadata": {},
   "source": [
    "Let's open the DataFrame with the Dataset summary"
   ]
  },
  {
   "cell_type": "code",
   "execution_count": null,
   "metadata": {},
   "outputs": [],
   "source": [
    "df = pd.read_csv(os.path.join(ROOT_FOLDER, yaml_config.get(\"dataset\").get('summary_file')), sep=\";\")\n",
    "train_df = df.query(f\"{yaml_config.get('dataset').get('train_test_split')} == 1\")\n",
    "test_df = df.query(f\"{yaml_config.get('dataset').get('train_test_split')} == 0\")"
   ]
  },
  {
   "cell_type": "code",
   "execution_count": null,
   "metadata": {},
   "outputs": [],
   "source": [
    "# We generate an array for \n",
    "train_filenames, train_coordinates = extract_coordinates_and_filenames(train_df, yaml_config.get('dataset'))\n",
    "test_filenames, test_coordinates = extract_coordinates_and_filenames(test_df, yaml_config.get('dataset'))"
   ]
  },
  {
   "cell_type": "code",
   "execution_count": null,
   "metadata": {},
   "outputs": [],
   "source": [
    "# We Instantiate our dataset\n",
    "train_dataset = generate_io_dataset(train_filenames, train_coordinates, yaml_config)\n",
    "test_dataset = generate_io_dataset(test_filenames, test_coordinates, yaml_config)"
   ]
  },
  {
   "cell_type": "code",
   "execution_count": null,
   "metadata": {},
   "outputs": [],
   "source": [
    "test_dataset"
   ]
  },
  {
   "cell_type": "code",
   "execution_count": null,
   "metadata": {},
   "outputs": [],
   "source": [
    "rand_tensor = tf.random.uniform(\n",
    "    [], minval=-1*45, maxval=45, dtype=tf.dtypes.float32, seed=None, name=None\n",
    ")"
   ]
  },
  {
   "cell_type": "code",
   "execution_count": null,
   "metadata": {},
   "outputs": [],
   "source": [
    "rand_tensor"
   ]
  },
  {
   "cell_type": "code",
   "execution_count": null,
   "metadata": {},
   "outputs": [],
   "source": [
    "@tf.function\n",
    "def tf_random_rotation(images, heatmaps, rotation_range):\n",
    "    rand = tf.random.uniform(\n",
    "        [], minval=-1*rotation_range, maxval=rotation_range, dtype=tf.dtypes.float32, seed=None, name=None\n",
    "    )\n",
    "    rotated_images = tf.image.rotate(images, rand)\n",
    "    rotated_heatmaps = tf.image.rotate(heatmaps, rand)\n",
    "    return rotated_images, rotated_heatmaps"
   ]
  },
  {
   "cell_type": "code",
   "execution_count": null,
   "metadata": {},
   "outputs": [],
   "source": [
    "from src.metrics.metrics import AmountCorrectKeypointsMetric"
   ]
  },
  {
   "cell_type": "code",
   "execution_count": null,
   "metadata": {},
   "outputs": [],
   "source": [
    "import numpy as np"
   ]
  },
  {
   "cell_type": "code",
   "execution_count": null,
   "metadata": {},
   "outputs": [],
   "source": [
    "from utils.argmax_funcs import argmax2D_without_batch"
   ]
  },
  {
   "cell_type": "code",
   "execution_count": null,
   "metadata": {},
   "outputs": [],
   "source": [
    "a = np.random.randint(low=0, high=255, size=(3, 64, 64, 14))"
   ]
  },
  {
   "cell_type": "code",
   "execution_count": null,
   "metadata": {},
   "outputs": [],
   "source": [
    "argmax = tf.argmax(tf.reshape(a, (3, 64*64, 14)), axis=-2)"
   ]
  },
  {
   "cell_type": "code",
   "execution_count": null,
   "metadata": {},
   "outputs": [],
   "source": [
    "tf.transpose(tf.stack([argmax[-1] // 64, argmax[-1] % 64]))"
   ]
  },
  {
   "cell_type": "code",
   "execution_count": null,
   "metadata": {},
   "outputs": [],
   "source": [
    "argmax"
   ]
  },
  {
   "cell_type": "code",
   "execution_count": null,
   "metadata": {},
   "outputs": [],
   "source": [
    "col_indices = argmax // tf.cast(tf.transpose(64), tf.int64)\n",
    "row_indices = argmax % tf.cast(tf.transpose(64), tf.int64)"
   ]
  },
  {
   "cell_type": "code",
   "execution_count": null,
   "metadata": {},
   "outputs": [],
   "source": [
    "argmax"
   ]
  },
  {
   "cell_type": "code",
   "execution_count": null,
   "metadata": {},
   "outputs": [],
   "source": [
    "tf.transpose(tf.stack([tf.reduce_mean(argmax // 64, axis=0), tf.reduce_mean(argmax % 64, axis=0)]))"
   ]
  },
  {
   "cell_type": "code",
   "execution_count": null,
   "metadata": {},
   "outputs": [],
   "source": [
    "tf.stack([col_indices, row_indices])"
   ]
  },
  {
   "cell_type": "code",
   "execution_count": null,
   "metadata": {},
   "outputs": [],
   "source": [
    "tf.reshape(tf.transpose(tf.stack([col_indices, row_indices]), [1, 2, 0]), (3*14, 2))"
   ]
  },
  {
   "cell_type": "code",
   "execution_count": null,
   "metadata": {},
   "outputs": [],
   "source": []
  },
  {
   "cell_type": "code",
   "execution_count": null,
   "metadata": {},
   "outputs": [],
   "source": [
    "argmax2D_without_batch(a, 3)"
   ]
  },
  {
   "cell_type": "code",
   "execution_count": null,
   "metadata": {},
   "outputs": [],
   "source": [
    "tf.map_fn(argmax2D_without_batch, a)"
   ]
  },
  {
   "cell_type": "code",
   "execution_count": null,
   "metadata": {},
   "outputs": [],
   "source": [
    "def tf_stacker(inputs, heatmaps, stacks):\n",
    "    return inputs, tf.stack([heatmaps]*stacks, axis=0)"
   ]
  },
  {
   "cell_type": "code",
   "execution_count": null,
   "metadata": {},
   "outputs": [],
   "source": [
    "u = train_dataset.map(tf_stacker)"
   ]
  },
  {
   "cell_type": "code",
   "execution_count": null,
   "metadata": {},
   "outputs": [],
   "source": [
    "for tfsample in u.take(5):\n",
    "    pass"
   ]
  },
  {
   "cell_type": "code",
   "execution_count": null,
   "metadata": {},
   "outputs": [],
   "source": [
    "tfsample"
   ]
  },
  {
   "cell_type": "markdown",
   "metadata": {},
   "source": [
    "The first element to check is the integer coefficient between input and output size to determine the number of downsizing."
   ]
  },
  {
   "cell_type": "code",
   "execution_count": null,
   "metadata": {
    "ExecuteTime": {
     "end_time": "2020-11-06T23:47:35.674040Z",
     "start_time": "2020-11-06T23:47:35.670869Z"
    }
   },
   "outputs": [],
   "source": [
    "assert (CFG.default.HOURGLASS.inputsize / CFG.default.HOURGLASS.outputsize).is_integer(), 'InputSize is not divisible by OutputSize'\n",
    "PREPROCESS_DOWNSIZING = int(CFG.default.HOURGLASS.inputsize / CFG.default.HOURGLASS.outputsize) -1"
   ]
  },
  {
   "cell_type": "markdown",
   "metadata": {},
   "source": [
    "We then check if our input image mode is genuine to define the channel numbers"
   ]
  },
  {
   "cell_type": "code",
   "execution_count": null,
   "metadata": {
    "ExecuteTime": {
     "end_time": "2020-11-06T23:47:36.025932Z",
     "start_time": "2020-11-06T23:47:36.022787Z"
    }
   },
   "outputs": [],
   "source": [
    "assert CFG.default.HOURGLASS.inputmode in [\"RGB\", \"BGR\", \"HSV\", \"HSL\", \"GRAY\"], 'The input image mode is not recognized'\n",
    "if CFG.default.HOURGLASS.inputmode in [\"RGB\", \"BGR\", \"HSV\", \"HSL\"]:\n",
    "    CHANNELS = 3\n",
    "elif CFG.default.HOURGLASS.inputmode in [\"GRAY\"]:\n",
    "    CHANNELS = 1"
   ]
  },
  {
   "cell_type": "code",
   "execution_count": null,
   "metadata": {},
   "outputs": [],
   "source": [
    "import numpy as np"
   ]
  },
  {
   "cell_type": "code",
   "execution_count": null,
   "metadata": {},
   "outputs": [],
   "source": [
    "batch_img = np.random.randint(0, 255, (5, 256, 256, 3))\n",
    "#batch_img = (batch_img / 255)"
   ]
  },
  {
   "cell_type": "code",
   "execution_count": null,
   "metadata": {},
   "outputs": [],
   "source": [
    "batch_img.shape"
   ]
  },
  {
   "cell_type": "code",
   "execution_count": null,
   "metadata": {},
   "outputs": [],
   "source": [
    "tf.reduce_mean(tf.cast(batch_img, tf.float64), axis=[-1, -2, -3], keepdims=True)"
   ]
  },
  {
   "cell_type": "code",
   "execution_count": null,
   "metadata": {},
   "outputs": [],
   "source": [
    "@tf.function\n",
    "def tf_normalize_minmax(tensor):\n",
    "    # We assume a Tensor with NHWC format\n",
    "    min_values = tf.reduce_min(tensor, axis=[-1, -2, -3], keepdims=True)\n",
    "    max_values = tf.reduce_max(tensor, axis=[-1, -2, -3], keepdims=True)\n",
    "    normalized_tensor = (tensor - min_values) / (max_values - min_values)\n",
    "    return normalized_tensor"
   ]
  },
  {
   "cell_type": "code",
   "execution_count": null,
   "metadata": {},
   "outputs": [],
   "source": [
    "@tf.function\n",
    "def tf_normalize_stddev(tensor):\n",
    "    # We assume a Tensor with NHWC format\n",
    "    mean_values = tf.reduce_mean(tensor, axis=[-1, -2, -3], keepdims=True)\n",
    "    std_values = tf.math.reduce_std(tensor, axis=[-1, -2, -3], keepdims=True)\n",
    "    normalized_tensor = (tensor - mean_values) / tf.sqrt(std_values)\n",
    "    return normalized_tensor"
   ]
  },
  {
   "cell_type": "code",
   "execution_count": null,
   "metadata": {},
   "outputs": [],
   "source": [
    "from skimage import io"
   ]
  },
  {
   "cell_type": "code",
   "execution_count": null,
   "metadata": {},
   "outputs": [],
   "source": [
    "tf.reduce_min(tf_normalize_minmax(batch_img))"
   ]
  },
  {
   "cell_type": "code",
   "execution_count": null,
   "metadata": {},
   "outputs": [],
   "source": [
    "images =  [\n",
    "    io.imread('../data/images/000041029.jpg'),\n",
    "    io.imread('../data/images/000040154.jpg'),\n",
    "    io.imread('../data/images/000050999.jpg'),\n",
    "    io.imread('../data/images/000022704.jpg'),\n",
    "    io.imread('../data/images/000015774.jpg'),\n",
    "]\n",
    "images = np.stack([tf.cast(tf_resize(tf_autopad(img), 256), tf.int64) for img in images], axis=0)"
   ]
  },
  {
   "cell_type": "code",
   "execution_count": null,
   "metadata": {},
   "outputs": [],
   "source": [
    "y = tf_normalize_minmax(images)\n",
    "z = tf_normalize_stddev(tf.cast(images, tf.float64))"
   ]
  },
  {
   "cell_type": "code",
   "execution_count": null,
   "metadata": {},
   "outputs": [],
   "source": [
    "plt.imshow(z[1])"
   ]
  },
  {
   "cell_type": "code",
   "execution_count": null,
   "metadata": {},
   "outputs": [],
   "source": []
  },
  {
   "cell_type": "code",
   "execution_count": 1,
   "metadata": {},
   "outputs": [],
   "source": [
    "import os\n",
    "import sys\n",
    "sys.path.append(os.path.join('..'))\n",
    "from src.run import Execution"
   ]
  },
  {
   "cell_type": "code",
   "execution_count": 2,
   "metadata": {},
   "outputs": [
    {
     "name": "stderr",
     "output_type": "stream",
     "text": [
      "2020-12-12 19:05:56.961 | INFO     | src.run:__init__:18 - Launch Model Initialization...\n",
      "2020-12-12 19:05:56.962 | SUCCESS  | src.run:__init__:23 - Launch Model in TRAINING type\n",
      "2020-12-12 19:05:56.980 | SUCCESS  | src.run:__init__:26 - Loading YAML Configuartion: DONE\n",
      "2020-12-12 19:05:58.814 | SUCCESS  | src.run:__init__:29 - Instantiate Datasets: DONE\n",
      "2020-12-12 19:05:59.221 | SUCCESS  | src.run:__init__:51 - Instantiate Model Graph: DONE\n",
      "2020-12-12 19:06:00.487 | SUCCESS  | src.run:__init__:61 - Building Model: DONE\n",
      "2020-12-12 19:06:00.488 | SUCCESS  | src.run:__init__:65 - [TRAINING] Instantiate Model: DONE\n",
      "2020-12-12 19:06:00.488 | SUCCESS  | src.run:__init__:68 - [TRAINING] Instantiate Optimizer: DONE\n",
      "2020-12-12 19:06:00.489 | SUCCESS  | src.run:__init__:71 - [TRAINING] Instantiate Loss Functions: DONE\n",
      "2020-12-12 19:06:00.511 | SUCCESS  | src.run:__init__:74 - [TRAINING] Instantiate Metrics: DONE\n",
      "2020-12-12 19:06:00.512 | SUCCESS  | src.run:__init__:77 - [TRAINING] Callbacks: DONE\n"
     ]
    }
   ],
   "source": [
    "exe = Execution('../config/hpeDefault.yml')"
   ]
  },
  {
   "cell_type": "code",
   "execution_count": 3,
   "metadata": {},
   "outputs": [],
   "source": [
    "exe.compile()"
   ]
  },
  {
   "cell_type": "code",
   "execution_count": null,
   "metadata": {},
   "outputs": [],
   "source": [
    "import tensorflow as tf\n",
    "import numpy as np\n",
    "x_train = np.random.rand(1000, 256, 256, 3)\n",
    "y_train = np.random.rand(1000, 2,64, 64, 16)\n",
    "x_val = np.random.rand(200, 256, 256, 3)\n",
    "y_val = np.random.rand(200, 2,64, 64, 16)\n",
    "train_ds = tf.data.Dataset.from_tensor_slices((x_train, y_train)).batch(16)\n",
    "val_ds = tf.data.Dataset.from_tensor_slices((x_val, y_val)).batch(16)\n",
    "from dataclasses import dataclass\n",
    "@dataclass\n",
    "class FakeDataset:\n",
    "    train = train_ds\n",
    "    val = val_ds\n",
    "\n",
    "fake_ds = FakeDataset()\n",
    "exe.datasets = fake_ds"
   ]
  },
  {
   "cell_type": "code",
   "execution_count": null,
   "metadata": {},
   "outputs": [],
   "source": [
    "exe.fit()"
   ]
  },
  {
   "cell_type": "code",
   "execution_count": null,
   "metadata": {},
   "outputs": [],
   "source": [
    "exe.metrics"
   ]
  },
  {
   "cell_type": "code",
   "execution_count": 4,
   "metadata": {},
   "outputs": [],
   "source": [
    "records = []\n",
    "for i in exe.datasets.train.take(10):\n",
    "    records.append(i)"
   ]
  },
  {
   "cell_type": "code",
   "execution_count": 7,
   "metadata": {},
   "outputs": [],
   "source": [
    "import matplotlib.pyplot as plt"
   ]
  },
  {
   "cell_type": "code",
   "execution_count": 38,
   "metadata": {},
   "outputs": [
    {
     "data": {
      "text/plain": [
       "<matplotlib.image.AxesImage at 0x14a80d820>"
      ]
     },
     "execution_count": 38,
     "metadata": {},
     "output_type": "execute_result"
    },
    {
     "data": {
      "image/png": "[encoded data removed]",
      "text/plain": [
       "<Figure size 360x360 with 1 Axes>"
      ]
     },
     "metadata": {
      "needs_background": "light"
     },
     "output_type": "display_data"
    },
    {
     "data": {
      "image/png": "[encoded data removed]",
      "text/plain": [
       "<Figure size 360x360 with 1 Axes>"
      ]
     },
     "metadata": {
      "needs_background": "light"
     },
     "output_type": "display_data"
    }
   ],
   "source": [
    "# Params\n",
    "BATCH_NUMBER=1\n",
    "IMAGE_NUMBER=0\n",
    "# Viz\n",
    "_ = plt.figure(figsize=(5, 5))\n",
    "plt.imshow(records[BATCH_NUMBER][0][IMAGE_NUMBER])\n",
    "_ = plt.figure(figsize=(5, 5))\n",
    "plt.imshow(np.sum(records[BATCH_NUMBER][1][IMAGE_NUMBER][0], axis=-1))"
   ]
  },
  {
   "cell_type": "code",
   "execution_count": 15,
   "metadata": {},
   "outputs": [],
   "source": [
    "import numpy as np"
   ]
  },
  {
   "cell_type": "code",
   "execution_count": 18,
   "metadata": {},
   "outputs": [
    {
     "data": {
      "text/plain": [
       "<matplotlib.image.AxesImage at 0x149d05730>"
      ]
     },
     "execution_count": 18,
     "metadata": {},
     "output_type": "execute_result"
    },
    {
     "data": {
      "image/png": "[encoded data removed]",
      "text/plain": [
       "<Figure size 432x288 with 1 Axes>"
      ]
     },
     "metadata": {
      "needs_background": "light"
     },
     "output_type": "display_data"
    }
   ],
   "source": []
  },
  {
   "cell_type": "code",
   "execution_count": 19,
   "metadata": {},
   "outputs": [
    {
     "data": {
      "text/plain": [
       "<tf.Tensor: shape=(64, 64, 16), dtype=float64, numpy=\n",
       "array([[[0., 0., 0., ..., 0., 0., 0.],\n",
       "        [0., 0., 0., ..., 0., 0., 0.],\n",
       "        [0., 0., 0., ..., 0., 0., 0.],\n",
       "        ...,\n",
       "        [0., 0., 0., ..., 0., 0., 0.],\n",
       "        [0., 0., 0., ..., 0., 0., 0.],\n",
       "        [0., 0., 0., ..., 0., 0., 0.]],\n",
       "\n",
       "       [[0., 0., 0., ..., 0., 0., 0.],\n",
       "        [0., 0., 0., ..., 0., 0., 0.],\n",
       "        [0., 0., 0., ..., 0., 0., 0.],\n",
       "        ...,\n",
       "        [0., 0., 0., ..., 0., 0., 0.],\n",
       "        [0., 0., 0., ..., 0., 0., 0.],\n",
       "        [0., 0., 0., ..., 0., 0., 0.]],\n",
       "\n",
       "       [[0., 0., 0., ..., 0., 0., 0.],\n",
       "        [0., 0., 0., ..., 0., 0., 0.],\n",
       "        [0., 0., 0., ..., 0., 0., 0.],\n",
       "        ...,\n",
       "        [0., 0., 0., ..., 0., 0., 0.],\n",
       "        [0., 0., 0., ..., 0., 0., 0.],\n",
       "        [0., 0., 0., ..., 0., 0., 0.]],\n",
       "\n",
       "       ...,\n",
       "\n",
       "       [[0., 0., 0., ..., 0., 0., 0.],\n",
       "        [0., 0., 0., ..., 0., 0., 0.],\n",
       "        [0., 0., 0., ..., 0., 0., 0.],\n",
       "        ...,\n",
       "        [0., 0., 0., ..., 0., 0., 0.],\n",
       "        [0., 0., 0., ..., 0., 0., 0.],\n",
       "        [0., 0., 0., ..., 0., 0., 0.]],\n",
       "\n",
       "       [[0., 0., 0., ..., 0., 0., 0.],\n",
       "        [0., 0., 0., ..., 0., 0., 0.],\n",
       "        [0., 0., 0., ..., 0., 0., 0.],\n",
       "        ...,\n",
       "        [0., 0., 0., ..., 0., 0., 0.],\n",
       "        [0., 0., 0., ..., 0., 0., 0.],\n",
       "        [0., 0., 0., ..., 0., 0., 0.]],\n",
       "\n",
       "       [[0., 0., 0., ..., 0., 0., 0.],\n",
       "        [0., 0., 0., ..., 0., 0., 0.],\n",
       "        [0., 0., 0., ..., 0., 0., 0.],\n",
       "        ...,\n",
       "        [0., 0., 0., ..., 0., 0., 0.],\n",
       "        [0., 0., 0., ..., 0., 0., 0.],\n",
       "        [0., 0., 0., ..., 0., 0., 0.]]])>"
      ]
     },
     "execution_count": 19,
     "metadata": {},
     "output_type": "execute_result"
    }
   ],
   "source": [
    "records[BATCH_NUMBER][1][IMAGE_NUMBER][0]"
   ]
  },
  {
   "cell_type": "code",
   "execution_count": null,
   "metadata": {},
   "outputs": [],
   "source": []
  }
 ],
 "metadata": {
  "hide_input": false,
  "kernelspec": {
   "display_name": "Python 3",
   "language": "python",
   "name": "python3"
  },
  "language_info": {
   "codemirror_mode": {
    "name": "ipython",
    "version": 3
   },
   "file_extension": ".py",
   "mimetype": "text/x-python",
   "name": "python",
   "nbconvert_exporter": "python",
   "pygments_lexer": "ipython3",
   "version": "3.8.6"
  },
  "toc": {
   "base_numbering": 1,
   "nav_menu": {},
   "number_sections": true,
   "sideBar": true,
   "skip_h1_title": false,
   "title_cell": "Table of Contents",
   "title_sidebar": "Contents",
   "toc_cell": false,
   "toc_position": {
    "height": "calc(100% - 180px)",
    "left": "10px",
    "top": "150px",
    "width": "288px"
   },
   "toc_section_display": true,
   "toc_window_display": true
  }
 },
 "nbformat": 4,
 "nbformat_minor": 2
}
